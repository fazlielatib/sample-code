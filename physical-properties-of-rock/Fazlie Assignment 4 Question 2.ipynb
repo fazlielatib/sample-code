{
 "cells": [
  {
   "cell_type": "markdown",
   "metadata": {},
   "source": [
    "# GOPH 457 Assignment 4 : Question 2"
   ]
  },
  {
   "cell_type": "markdown",
   "metadata": {},
   "source": [
    "# Gassman's relations for fluid substitution problem"
   ]
  },
  {
   "cell_type": "markdown",
   "metadata": {},
   "source": [
    "## Under water saturated condition,"
   ]
  },
  {
   "cell_type": "markdown",
   "metadata": {},
   "source": [
    "P-wave velocity, Vp = 3.80 km/s\n",
    "\n",
    "S-wave velocity, Vs = 2.16 km/s\n",
    "\n",
    "Bulk density, ρB = 2.33 g/cm^3\n",
    "\n",
    "Porosity, ∅ = 0.18"
   ]
  },
  {
   "cell_type": "markdown",
   "metadata": {},
   "source": [
    "## Importing libraries"
   ]
  },
  {
   "cell_type": "code",
   "execution_count": 1,
   "metadata": {},
   "outputs": [],
   "source": [
    "import matplotlib.pyplot as plt\n",
    "import numpy as np\n",
    "import pandas as pd"
   ]
  },
  {
   "cell_type": "markdown",
   "metadata": {},
   "source": [
    "## STEP 1 : Calculate Ksat and G"
   ]
  },
  {
   "cell_type": "markdown",
   "metadata": {},
   "source": [
    "$ \\Large K_{sat} = \\rho_B \\left(V_P - \\frac{4}{3} V_S^2 \\right) $"
   ]
  },
  {
   "cell_type": "markdown",
   "metadata": {},
   "source": [
    "$ \\Large G = V_S^2 \\rho_B $"
   ]
  },
  {
   "cell_type": "markdown",
   "metadata": {},
   "source": [
    "where  \n",
    "\n",
    "       Ksat is saturated bulk modulus (GPa or Pa)\n",
    "       G is shear modulus (GPa or Pa)"
   ]
  },
  {
   "cell_type": "code",
   "execution_count": 2,
   "metadata": {},
   "outputs": [
    {
     "name": "stdout",
     "output_type": "stream",
     "text": [
      "The bulk modulus for the fully saturated rock is 19.15 GPa\n",
      "The shear modulus for the fully saturated rock is 10.87 GPa\n"
     ]
    }
   ],
   "source": [
    "vp = 3800\n",
    "vs = 2160 \n",
    "rho_b = 2330\n",
    "\n",
    "K_sat = (rho_b * (vp ** 2 - 4 * vs ** 2 / 3)) / 10 ** 9\n",
    "\n",
    "G = (vs ** 2 * rho_b) / 10 ** 9\n",
    "\n",
    "print('The bulk modulus for the fully saturated rock is ' + str(\"{:.2f}\".format(K_sat)) + ' GPa')\n",
    "print('The shear modulus for the fully saturated rock is ' + str(\"{:.2f}\".format(G)) + ' GPa')"
   ]
  },
  {
   "cell_type": "markdown",
   "metadata": {},
   "source": [
    "## STEP 2 : Calculate ρs"
   ]
  },
  {
   "cell_type": "markdown",
   "metadata": {},
   "source": [
    "$ \\Large \\rho_B = \\rho_S (1 - \\phi) + \\rho_f \\phi $"
   ]
  },
  {
   "cell_type": "markdown",
   "metadata": {},
   "source": [
    "$ \\Large \\rho_S = \\frac{\\rho_B - \\rho_f \\phi}{1 - \\phi} $"
   ]
  },
  {
   "cell_type": "markdown",
   "metadata": {},
   "source": [
    "where  \n",
    "\n",
    "       𝜌S is density of rock mineral (kg/m^3)\n",
    "       𝜌f is density of fluid (kg/m^3)\n",
    "\n",
    "Since the rock is saturated with water, 𝜌f = 1000 kg/m^3."
   ]
  },
  {
   "cell_type": "code",
   "execution_count": 3,
   "metadata": {
    "scrolled": true
   },
   "outputs": [
    {
     "name": "stdout",
     "output_type": "stream",
     "text": [
      "The density of the rock mineral is 2622 kg/m^3\n"
     ]
    }
   ],
   "source": [
    "rho_water = 1000\n",
    "por = 0.18\n",
    "\n",
    "rho_s = (rho_b - rho_water * por) / (1 - por)\n",
    "\n",
    "print('The density of the rock mineral is ' + str(\"{:.0f}\".format(rho_s)) + ' kg/m^3')"
   ]
  },
  {
   "cell_type": "markdown",
   "metadata": {},
   "source": [
    "## STEP 3 : Estimate Ks based on lithology estimates"
   ]
  },
  {
   "cell_type": "markdown",
   "metadata": {},
   "source": [
    "G = 10.87 GPa and ρs = 2622 kg/m^3.\n",
    "\n",
    "Based on the shear modulus and density of the mineral, the mineral can be estimated to be an “average” feldspar with mineral bulk modulus, Ks of 37.5 GPa. \n",
    "\n",
    "(Taken from Carmichael, 1989)"
   ]
  },
  {
   "cell_type": "markdown",
   "metadata": {},
   "source": [
    "## STEP 4 : Find Kf for water"
   ]
  },
  {
   "cell_type": "markdown",
   "metadata": {},
   "source": [
    "Bulk modulus for water, Kf = Kwater = 2.15 GPa (Taken from https://www.engineeringtoolbox.com/bulk-modulus-elasticity-d_585.html)"
   ]
  },
  {
   "cell_type": "markdown",
   "metadata": {},
   "source": [
    "## STEP 5 : Calculate K*"
   ]
  },
  {
   "cell_type": "markdown",
   "metadata": {},
   "source": [
    "$ \\Large K^* = \\frac{K_{sat} \\left(\\frac{\\phi K_S}{K_f} + 1 - \\phi \\right) - K_S}{\\frac{\\phi K_S}{K_f} + \\frac{K_{sat}}{K_S} - 1 - \\phi} $"
   ]
  },
  {
   "cell_type": "markdown",
   "metadata": {},
   "source": [
    "where  \n",
    "\n",
    "       K* is bulk modulus of dry rock (GPa or Pa)\n",
    "       Ks is mineral bulk modulus (GPa or Pa)\n",
    "       Kf is fluid bulk modulus (GPa or Pa)"
   ]
  },
  {
   "cell_type": "code",
   "execution_count": 4,
   "metadata": {
    "scrolled": true
   },
   "outputs": [
    {
     "name": "stdout",
     "output_type": "stream",
     "text": [
      "The bulk modulus for the dry rock is 15.52 GPa\n"
     ]
    }
   ],
   "source": [
    "K_water = 2.15\n",
    "K_s = 37.5\n",
    "\n",
    "K_star = (K_sat * (por * K_s / K_water + 1 - por) - K_s) / (por * K_s / K_water + K_sat / K_s - 1 - por)\n",
    "\n",
    "print('The bulk modulus for the dry rock is ' + str(\"{:.2f}\".format(K_star)) + ' GPa')"
   ]
  },
  {
   "cell_type": "markdown",
   "metadata": {},
   "source": [
    "## STEP 6 : Calculate new Kf and 𝜌f based on oil-water saturation"
   ]
  },
  {
   "cell_type": "markdown",
   "metadata": {},
   "source": [
    "$ \\Large K_{f,new} = \\left(\\frac{f_{oil}}{K_{oil}} + \\frac{f_{water}}{K_{water}} \\right) ^ {-1} $"
   ]
  },
  {
   "cell_type": "markdown",
   "metadata": {},
   "source": [
    "$ \\Large \\rho_{f,new} = f_{oil} \\rho_{oil} + f_{water} \\rho_{water} $"
   ]
  },
  {
   "cell_type": "markdown",
   "metadata": {},
   "source": [
    "where\n",
    "\n",
    "    Kf,new is new fluid bulk modulus\n",
    "    𝜌f,new is new fluid density\n",
    "    foil is fraction of oil\n",
    "    fwater is fraction of water"
   ]
  },
  {
   "cell_type": "code",
   "execution_count": 6,
   "metadata": {},
   "outputs": [
    {
     "name": "stdout",
     "output_type": "stream",
     "text": [
      "           Oil %     Water %  Kf (GPa)  ρf (kg/m^3)\n",
      "0       0.000000  100.000000  2.150000  1000.000000\n",
      "1       0.010001   99.989999  2.149937   999.984998\n",
      "2       0.020002   99.979998  2.149873   999.969997\n",
      "3       0.030003   99.969997  2.149810   999.954995\n",
      "4       0.040004   99.959996  2.149746   999.939994\n",
      "...          ...         ...       ...          ...\n",
      "9995   99.959996    0.040004  1.660151   850.060006\n",
      "9996   99.969997    0.030003  1.660114   850.045005\n",
      "9997   99.979998    0.020002  1.660076   850.030003\n",
      "9998   99.989999    0.010001  1.660038   850.015002\n",
      "9999  100.000000    0.000000  1.660000   850.000000\n",
      "\n",
      "[10000 rows x 4 columns]\n"
     ]
    }
   ],
   "source": [
    "K_oil = 1.66\n",
    "rho_oil = 850\n",
    "\n",
    "saturation_range = np.linspace(0, 1, 10000)\n",
    "\n",
    "vp_values = []\n",
    "vs_values = []\n",
    "\n",
    "table1 = pd.DataFrame(columns=['Oil %', 'Water %', 'Kf (GPa)', 'ρf (kg/m^3)'])\n",
    "table2 = pd.DataFrame(columns=['Oil %', 'Water %', 'Ksat (GPa)', 'ρB (kg/m^3)'])\n",
    "table3 = pd.DataFrame(columns=['Oil %', 'Water %', 'Vp (m/s)', 'Vs (m/s)'])\n",
    "\n",
    "for oil_fraction in saturation_range:\n",
    "    \n",
    "    water_fraction = 1 - oil_fraction\n",
    "    \n",
    "    oil_percent = oil_fraction * 100\n",
    "    water_percent = water_fraction * 100\n",
    "    \n",
    "    K_f_new = (oil_fraction / K_oil + (water_fraction) / K_water) ** -1\n",
    "    \n",
    "    rho_f_new = oil_fraction * rho_oil + (water_fraction) * rho_water\n",
    "    \n",
    "    K_sat_new = K_star + (1 - K_star / K_s) ** 2 / (por / K_f_new + (1 - por) / K_s - K_star / K_s ** 2)\n",
    "    \n",
    "    rho_b_new = rho_s * (1 - por) + rho_f_new * por\n",
    "    \n",
    "    vp_new = np.sqrt((K_sat_new * 10 ** 9 + 4 * G * 10 ** 9 / 3) / rho_b_new)\n",
    "    vp_values.append(vp_new)\n",
    "    \n",
    "    vs_new = np.sqrt(G * 10 ** 9 / rho_b_new)\n",
    "    vs_values.append(vs_new)\n",
    "    \n",
    "    \n",
    "    table1 = table1.append({'Oil %': oil_percent, 'Water %': water_percent, 'Kf (GPa)': K_f_new, \n",
    "                            'ρf (kg/m^3)': rho_f_new}, ignore_index=True)\n",
    "    table2 = table2.append({'Oil %': oil_percent, 'Water %': water_percent, 'Ksat (GPa)': K_sat_new, \n",
    "                            'ρB (kg/m^3)': rho_b_new}, ignore_index=True)\n",
    "    table3 = table3.append({'Oil %': oil_percent, 'Water %': water_percent, 'Vp (m/s)': vp_new, \n",
    "                            'Vs (m/s)': vs_new}, ignore_index=True)\n",
    "    \n",
    "print(table1)"
   ]
  },
  {
   "cell_type": "markdown",
   "metadata": {},
   "source": [
    "## STEP 7 : Calculate new Ksat and 𝜌B using new Kf and 𝜌f respectively"
   ]
  },
  {
   "cell_type": "markdown",
   "metadata": {},
   "source": [
    "$ \\Large K_{sat,new} = K^* + \\frac{\\left(1 - \\frac{K^*}{K_S} \\right) ^ 2}{\\frac{\\phi}{K_{f,new}} + \\frac{1 - \\phi}{K_S} - \\frac{K^*}{K_S^2}} $"
   ]
  },
  {
   "cell_type": "markdown",
   "metadata": {},
   "source": [
    "$ \\Large \\rho_{B,new} = \\rho_S (1 - \\phi) + \\rho_{f,new} \\phi $"
   ]
  },
  {
   "cell_type": "markdown",
   "metadata": {},
   "source": [
    "where\n",
    "\n",
    "    Ksat,new is new saturated bulk modulus of rock\n",
    "    𝜌B,new is new bulk density of rock"
   ]
  },
  {
   "cell_type": "code",
   "execution_count": 7,
   "metadata": {},
   "outputs": [
    {
     "name": "stdout",
     "output_type": "stream",
     "text": [
      "           Oil %     Water %  Ksat (GPa)  ρB (kg/m^3)\n",
      "0       0.000000  100.000000   19.150736  2330.000000\n",
      "1       0.010001   99.989999   19.150641  2329.997300\n",
      "2       0.020002   99.979998   19.150546  2329.994599\n",
      "3       0.030003   99.969997   19.150451  2329.991899\n",
      "4       0.040004   99.959996   19.150356  2329.989199\n",
      "...          ...         ...         ...          ...\n",
      "9995   99.959996    0.040004   18.397840  2303.010801\n",
      "9996   99.969997    0.030003   18.397780  2303.008101\n",
      "9997   99.979998    0.020002   18.397721  2303.005401\n",
      "9998   99.989999    0.010001   18.397661  2303.002700\n",
      "9999  100.000000    0.000000   18.397601  2303.000000\n",
      "\n",
      "[10000 rows x 4 columns]\n"
     ]
    }
   ],
   "source": [
    "print(table2)"
   ]
  },
  {
   "cell_type": "markdown",
   "metadata": {},
   "source": [
    "## STEP 8 : Calculate new Vp and Vs using new Ksat and 𝜌B"
   ]
  },
  {
   "cell_type": "markdown",
   "metadata": {},
   "source": [
    "$ \\Large V_{P,new} = \\sqrt \\frac{K_{sat,new} + \\frac{4}{3} G}{\\rho_{B,new}} $"
   ]
  },
  {
   "cell_type": "markdown",
   "metadata": {},
   "source": [
    "$ \\Large V_{S,new} = \\sqrt \\frac{G}{\\rho_{B,new}} $"
   ]
  },
  {
   "cell_type": "markdown",
   "metadata": {},
   "source": [
    "where\n",
    "\n",
    "    Vp is new P-wave velocity\n",
    "    Vs is new S-wave velocity\n",
    "    \n",
    "    \n",
    "The bulk modulus for oil, Koil = 1.66 GPa (Taken from https://www.engineeringtoolbox.com/bulk-modulus-elasticity-d_585.html)\n",
    "\n",
    "The density of oil, 𝜌oil = 850 kg/m^3 (Taken from https://www.chemicalbook.com/ChemicalProductProperty_EN_CB5266104.htm)"
   ]
  },
  {
   "cell_type": "code",
   "execution_count": 8,
   "metadata": {},
   "outputs": [
    {
     "name": "stdout",
     "output_type": "stream",
     "text": [
      "           Oil %     Water %     Vp (m/s)     Vs (m/s)\n",
      "0       0.000000  100.000000  3800.000000  2160.000000\n",
      "1       0.010001   99.989999  3799.996837  2160.001252\n",
      "2       0.020002   99.979998  3799.993674  2160.002503\n",
      "3       0.030003   99.969997  3799.990511  2160.003755\n",
      "4       0.040004   99.959996  3799.987349  2160.005007\n",
      "...          ...         ...          ...          ...\n",
      "9995   99.959996    0.040004  3779.193778  2172.619756\n",
      "9996   99.969997    0.030003  3779.192562  2172.621029\n",
      "9997   99.979998    0.020002  3779.191347  2172.622303\n",
      "9998   99.989999    0.010001  3779.190132  2172.623577\n",
      "9999  100.000000    0.000000  3779.188917  2172.624850\n",
      "\n",
      "[10000 rows x 4 columns]\n"
     ]
    }
   ],
   "source": [
    "print(table3)"
   ]
  },
  {
   "cell_type": "markdown",
   "metadata": {},
   "source": [
    "## STEP 7 : Plot Vp and Vs as a function of oil-water saturation"
   ]
  },
  {
   "cell_type": "code",
   "execution_count": 9,
   "metadata": {},
   "outputs": [
    {
     "data": {
      "image/png": "[encoded data removed]",
      "text/plain": [
       "<Figure size 432x288 with 1 Axes>"
      ]
     },
     "metadata": {
      "needs_background": "light"
     },
     "output_type": "display_data"
    },
    {
     "data": {
      "image/png": "[encoded data removed]",
      "text/plain": [
       "<Figure size 432x288 with 1 Axes>"
      ]
     },
     "metadata": {
      "needs_background": "light"
     },
     "output_type": "display_data"
    }
   ],
   "source": [
    "plt.figure\n",
    "plt.plot(saturation_range, vp_values)\n",
    "plt.title('P-wave velocity for oil-water saturation', fontweight = \"bold\")\n",
    "plt.xlabel('Oil Fraction') \n",
    "plt.ylabel('Velocity (m/s)') \n",
    "\n",
    "plt.figure()\n",
    "plt.plot(saturation_range, vs_values, 'orange')\n",
    "plt.title('S-wave velocity for oil-water saturation', fontweight = \"bold\")\n",
    "plt.xlabel('Oil Fraction') \n",
    "plt.ylabel('Velocity (m/s)');"
   ]
  }
 ],
 "metadata": {
  "kernelspec": {
   "display_name": "Python 3",
   "language": "python",
   "name": "python3"
  },
  "language_info": {
   "codemirror_mode": {
    "name": "ipython",
    "version": 3
   },
   "file_extension": ".py",
   "mimetype": "text/x-python",
   "name": "python",
   "nbconvert_exporter": "python",
   "pygments_lexer": "ipython3",
   "version": "3.8.5"
  }
 },
 "nbformat": 4,
 "nbformat_minor": 4
}
