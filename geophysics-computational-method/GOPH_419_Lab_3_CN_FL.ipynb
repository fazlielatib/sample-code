{
 "cells": [
  {
   "cell_type": "markdown",
   "metadata": {},
   "source": [
    "# <p style='text-align: center;'>GOPH 419 Computational Methods for Geophysicists : Lab 3 </p>"
   ]
  },
  {
   "cell_type": "markdown",
   "metadata": {},
   "source": [
    "## <p style='text-align: center;'>Cole Narfason & Fazlie Latib</p>"
   ]
  },
  {
   "cell_type": "markdown",
   "metadata": {},
   "source": [
    "## Abstract"
   ]
  },
  {
   "cell_type": "markdown",
   "metadata": {},
   "source": [
    "<p style='text-align: justify;'>The objective of this lab is to perform least squares regression analysis by creating and solving a linear system of equations. Python code will then be used to analyze a Gutenberg-Richter Law application for monitoring earthquake frequency at an industrial operation. Due to advancements in horizontal drilling technology, hydrocarbon reservoirs that were routinely drilled through to reach other formations with much higher permeability are now being revisited. By drilling a horizontal well and fracking the rock surrounding its lateral, this artificially increases the permeability of the reservoir and enables hydrocarbons to flow into and up the wellbore. However, this increase in pressure can cause induced seismicity as faults close to the well that are just about to slip, now do slip with the increased pressure. This risk of induced seismicity is often overlooked but is important to monitor while exploiting these new unconventional reservoirs. Using linear least squares, best-fit curves were fitted to the data and plotted. It appeared that large injection rate increases corresponded to high b values and low injection rate slope values corresponded to lower b values. This could explain noticable trends in the dataset where injection rates changed in the study area. Before analyzing the data, Gutenberg-Richter Law equation was linearized so that the least squares regression function built, multi_regress() can be utilized properly. The time series data was plotted and the time intervals of data that were analyzed were chosen based-upon apparent trends in the number of earthquake occurences where approximately 4 different intervals could be distinguished. The first interval is between 0 to 34 hours and the a and b values was found to be 2.70 and 2.10 respectively. The second interval is between 34 to 46 hours and the a and b values was found to be 2.08 and 1.74 respectively. The third interval is between 46 to 72 hours and the a and b values was found to be 2.35 and 1.74 respectively. The last interval is between 72 to 120 hours and the a and b values was found to be 2.77 and 1.97 respectively.</p>"
   ]
  },
  {
   "cell_type": "code",
   "execution_count": 1,
   "metadata": {},
   "outputs": [
    {
     "data": {
      "text/html": [
       "<img src=\"http://www.bu.edu/files/2020/12/Resize-iStock-1161946927.jpg\"/>"
      ],
      "text/plain": [
       "<IPython.core.display.Image object>"
      ]
     },
     "execution_count": 1,
     "metadata": {},
     "output_type": "execute_result"
    }
   ],
   "source": [
    "# show picture of horizontal well at surface\n",
    "from IPython.display import Image\n",
    "from IPython.core.display import HTML \n",
    "Image(url= \"http://www.bu.edu/files/2020/12/Resize-iStock-1161946927.jpg\")"
   ]
  },
  {
   "cell_type": "markdown",
   "metadata": {},
   "source": [
    "## Background and Theory"
   ]
  },
  {
   "cell_type": "markdown",
   "metadata": {},
   "source": [
    "### Curve Fitting:"
   ]
  },
  {
   "cell_type": "markdown",
   "metadata": {},
   "source": [
    "In engineering and science we often encounter data given as discrete values along a continuum. It is often necessary to estimate the values between the given discrete values and curve fitting can help solve the problem. Curve fitting may also provide a mean to simplify a complicated relationship between variables. \n",
    "\n",
    "There are several approaches for fitting curves to the data. This includes interpolation which can be especially useful if the data is very precise and it is reasonable to pass a curve through all the data points. Fourier analysis is another approach which is useful when the data is known to be periodic in nature and it is desirable to obtain its frequency components (e.g. wave data). In this lab we will be using one of the most common methods which is referred to as **Least Squares Regression** (Karchewski 2021)."
   ]
  },
  {
   "cell_type": "markdown",
   "metadata": {},
   "source": [
    "### General Linear Least Squares Regression (GLLS):"
   ]
  },
  {
   "cell_type": "markdown",
   "metadata": {},
   "source": [
    "GLLS is essentially a methodology for developing a linear system of equations. We assume we can write our model in the form:"
   ]
  },
  {
   "cell_type": "markdown",
   "metadata": {},
   "source": [
    "$ y =f(x,a) = a_1x_1 + a_2x_2 + ... + a_{n}x_n $"
   ]
  },
  {
   "cell_type": "markdown",
   "metadata": {},
   "source": [
    "where y is a scalar dependent variable, f is the model function, x is a vector of independent variables and a is a vector of the model parameters. This assumption may seem bold but many models in science and engineering can be written in this form or linearized to produce it. We want to determine the 'a' coefficients of the equation in a way that somehow minimizes the error in the model. With GLLS we do this by **minimizing the sum of squared residuals** about the fitted curve (recall: a residual is the difference between the original data value and the value that the fitted curve would produce for the same independent x value). This works well because it produces a **unique solution and counts positive and negative error equally. It also does not weigh outliers too heavily** (Karchewski 2021). "
   ]
  },
  {
   "cell_type": "markdown",
   "metadata": {},
   "source": [
    "The equations used to build the least square regression function are shown below. Z is the matrix of the independent variable data and y is the vector of the dependent variable data. [A] is the coefficient matrix and {Y} is the right-hand side vector for the least squares regression and both of them will be used to calculate and form {a}, the vector containing the unknown coefficients in the model. Using [Z] and {a}, we can estimate the model dependent variable data, {ym}. "
   ]
  },
  {
   "cell_type": "markdown",
   "metadata": {},
   "source": [
    "$ \\Large [A] = [Z]^T [Z] $"
   ]
  },
  {
   "cell_type": "markdown",
   "metadata": {},
   "source": [
    "$ \\Large \\{Y\\} = [Z]^T \\{y\\} $"
   ]
  },
  {
   "cell_type": "markdown",
   "metadata": {},
   "source": [
    "$ \\Large \\{a\\} = [A]^{-1} \\{Y\\} $"
   ]
  },
  {
   "cell_type": "markdown",
   "metadata": {},
   "source": [
    "$ \\Large \\{y_m\\} = [Z] \\{a\\} $"
   ]
  },
  {
   "cell_type": "markdown",
   "metadata": {},
   "source": [
    "The quality of fit produced by the newly solved for 'a' coefficients can be assessed by looking at the coefficient of determination; commonly known as the $ r^{2} $  value where it can be calculated by computing the sum of squared residuals about the mean y value (St) and the fitted model (Sr) as shown in the equation below where {e} is the column vector of the residuals. The $ r^{2} $ value can be thought of as the % of variation of the target (dependent) variable Y that is explained by the linear model. This value will be between 0 and 1, where the closer to 1 the value is, the better the fit. Usually an $ r^{2} $ > 0.6 is considered an acceptable fit (Karchewski 2021)."
   ]
  },
  {
   "cell_type": "markdown",
   "metadata": {},
   "source": [
    "$ \\Large \\{e_{about  data  mean}\\} = \\{y\\} - \\{y_{mean}\\} $"
   ]
  },
  {
   "cell_type": "markdown",
   "metadata": {},
   "source": [
    "$ \\Large \\{e_{about fitted model}\\} = \\{y\\} - \\{y_{model}\\} $"
   ]
  },
  {
   "cell_type": "markdown",
   "metadata": {},
   "source": [
    "$ \\Large r^2 = \\frac{S_t - S_r}{S_t} $"
   ]
  },
  {
   "cell_type": "markdown",
   "metadata": {},
   "source": [
    "### Gutenberg-Richter Law"
   ]
  },
  {
   "cell_type": "markdown",
   "metadata": {},
   "source": [
    "In seismology, the Gutenburg-Richter Law is a model for the relationship between earthquake magnitude and frequency. The power law form of it can be seen displayed in **Equation 1**:"
   ]
  },
  {
   "cell_type": "markdown",
   "metadata": {},
   "source": [
    "#### Equation 1: Power law form of Gutenberg Richter Law"
   ]
  },
  {
   "cell_type": "markdown",
   "metadata": {},
   "source": [
    "$ N = 10^{a-bM} $\n"
   ]
  },
  {
   "cell_type": "markdown",
   "metadata": {},
   "source": [
    "where N is the number of earthquake events having magnitude ≥ M. The parameter a (sometimes called the productivity) gives how many earthquakes of magnitude 1.0 or greater generally occur in a region during a given period. The parameter b (called simply the b-value) controls the rate of decrease of earthquake occurrence as M increases. Natural fault systems in seismically active regions generally have b ≈ 1.0, but b can range from 0.5 to 2.5 depending on the source of the earthquakes. Often, regions experiencing seismicity induced by industrial activities (e.g. hydraulic fracturing, wastewater injection) have b≈ 2.0, though the meaning of this is still an open area of research. It has also been observed that during a swarm of earthquakes of smaller magnitude,b can reach as high as 2.5 (Karchewski 2021). By linearizing the Gutenberg-Richter law (which can be seen in **Equation 2** this makes it less complicated when fitting a model for use with a function we will create for multi-linear regression."
   ]
  },
  {
   "cell_type": "markdown",
   "metadata": {},
   "source": [
    "#### Equation 2: Linearized form of Gutenberg-Richter Law"
   ]
  },
  {
   "cell_type": "markdown",
   "metadata": {},
   "source": [
    "$ log_{10}(N) = a - bM $"
   ]
  },
  {
   "cell_type": "markdown",
   "metadata": {},
   "source": [
    "For the regression analysis, log10(N) will be the y-axis and M will be the x-axis where a is the y-intercept and -b is the slope of the linear regression line. This is how we can estimate the values of constant a and b for each interval."
   ]
  },
  {
   "cell_type": "markdown",
   "metadata": {},
   "source": [
    "### Unconventional Reservoirs, Fracking and Induced seismicity"
   ]
  },
  {
   "cell_type": "markdown",
   "metadata": {},
   "source": [
    "Many Hydrocarbon reservoirs around the world have the appropriate porosity to hold sufficient hydrocarbons within their pores but lack the permeability to allow it to flow to a well that is drilled into the formation. With the development of horizontal drilling technologies that allow wells to access more of these 'tight' formations, in combination with multistage hydraulic fracturing has enabled these reservoirs to become economically viable whereas before they were just rocks to drill through to hit formations with high permeability values. Hydraulic fracturing involves increasing the pressure with fluids (hydraulic) in a well until the pressure becomes so high that it hydraulically fractures the formation. A lot of times this fluid will have proppant which is usually comprised of grains of sand and these grains help to hold open the fractures when the pressure is reduced. By stimulating a large volume of rock with fractures, this creates the permeability required for the hydrocarbons to flow into the well. Since the well is put 'horizontally' through the formation, there can be multiple stages of fracking to allow the greatest volume of rock to be stimulated and can be see in the figure below. A consequence of raising the pressure to extreme values until the rock fractures is induced seismicity where faults surrounding the well that are somewhat unstable now slip and produce seismicity. This induced seismicity is highly unwanted and can lead to a variety of different problems so it is good to monitor it."
   ]
  },
  {
   "cell_type": "code",
   "execution_count": 2,
   "metadata": {},
   "outputs": [
    {
     "data": {
      "text/html": [
       "<img src=\"https://image.slidesharecdn.com/lecture7-hydraulicfracturing-180810194734/95/hydraulic-fracturing-25-638.jpg\"/>"
      ],
      "text/plain": [
       "<IPython.core.display.Image object>"
      ]
     },
     "execution_count": 2,
     "metadata": {},
     "output_type": "execute_result"
    }
   ],
   "source": [
    "# show picture of horizontal well at surface\n",
    "from IPython.display import Image\n",
    "from IPython.core.display import HTML \n",
    "Image(url= \"https://image.slidesharecdn.com/lecture7-hydraulicfracturing-180810194734/95/hydraulic-fracturing-25-638.jpg\")"
   ]
  },
  {
   "cell_type": "markdown",
   "metadata": {},
   "source": [
    "\n",
    "### Lab Data"
   ]
  },
  {
   "cell_type": "markdown",
   "metadata": {},
   "source": [
    "Time series data was provided for earthquake events over the course of a week of operations at an industrial site at which fluid is being injected through a well into a shale formation."
   ]
  },
  {
   "cell_type": "markdown",
   "metadata": {},
   "source": [
    "# Methods/Algorithm and Discussion of Results"
   ]
  },
  {
   "cell_type": "markdown",
   "metadata": {},
   "source": [
    "## Importing libraries"
   ]
  },
  {
   "cell_type": "markdown",
   "metadata": {},
   "source": [
    "Import Necessary Libraries"
   ]
  },
  {
   "cell_type": "code",
   "execution_count": 3,
   "metadata": {},
   "outputs": [],
   "source": [
    "import matplotlib.pyplot as plt\n",
    "import numpy as np\n",
    "import pandas as pd"
   ]
  },
  {
   "cell_type": "markdown",
   "metadata": {},
   "source": [
    "## Defining least square regression function"
   ]
  },
  {
   "cell_type": "code",
   "execution_count": 4,
   "metadata": {},
   "outputs": [],
   "source": [
    "def multi_regress(y,Z):\n",
    "#\n",
    "# This function develop a model to represent the measured dependent variable data distribution with the measured independent variable data using the least square regression method.\n",
    "#\n",
    "# INPUTS:\n",
    "# y is the column vector of observed values of the dependent variable\n",
    "# Z is the matrix where the value in row i and column j is the observed value of independent variable xj corresponding to the observed dependent \n",
    "#      xj corresponding to the observed dependent variable value yi\n",
    "#\n",
    "# OUTPUT:\n",
    "# a is the column vector containing the model coefficients\n",
    "# r is the column vector of residuals between the model and the data at each data point\n",
    "# rsq is the coefficient of determination r^2\n",
    "#\n",
    "\n",
    "    A = np.dot(np.transpose(Z), Z) # calculate and form the coefficient matrix, A \n",
    "    \n",
    "    Y = np.dot(np.transpose(Z), y) # calculate and form the right-hand side vector, Y\n",
    "    \n",
    "    a = np.dot(np.linalg.inv(A) , Y) # calculate and form the column vector of unknown coefficients, a\n",
    "    \n",
    "    ymodel = np.dot(Z, a) # calculate and form the column vector for the modelled dependent variable, ymodel\n",
    "    \n",
    "    r = y - ymodel # calculate and form the column vector for the residuals about the fitted model, r\n",
    "    \n",
    "    sr = np.sum(r ** 2) # calculate the sum of squared residuals about the fitted model, sr\n",
    "    \n",
    "    r_mean = y - np.mean(y) # calculate the sum of squared residuals about the measured dependent data mean, sr\n",
    "    \n",
    "    st = np.sum(r_mean ** 2) # calculate the sum of squared residuals about the measured dependent data mean, sr\n",
    "    \n",
    "    rsq = (st - sr) / st # calculate the coefficient of determination, r^2\n",
    "    \n",
    "    return a, r, rsq # return a, r and r^2"
   ]
  },
  {
   "cell_type": "markdown",
   "metadata": {},
   "source": [
    "## Plotting raw earthquake data across 5 days"
   ]
  },
  {
   "cell_type": "code",
   "execution_count": 5,
   "metadata": {},
   "outputs": [
    {
     "data": {
      "image/png": "[encoded data removed]",
      "text/plain": [
       "<Figure size 432x288 with 1 Axes>"
      ]
     },
     "metadata": {
      "needs_background": "light"
     },
     "output_type": "display_data"
    }
   ],
   "source": [
    "X, Y = [], []\n",
    "\n",
    "for line in open('M_data.txt', 'r'):\n",
    "  values = [float(s) for s in line.split()]\n",
    "  X.append(values[0])\n",
    "  Y.append(values[1])\n",
    "\n",
    "plt.plot(X, Y, '.', markersize = 0.5)\n",
    "plt.title(\"Raw Earthquake Event Data\")\n",
    "plt.xlabel(\"Time, t (hours)\")\n",
    "plt.ylabel(\"Event Magnitude, M\")\n",
    "plt.show()"
   ]
  },
  {
   "cell_type": "markdown",
   "metadata": {},
   "source": [
    "## Analyzing data between 0 to 34 hours"
   ]
  },
  {
   "cell_type": "code",
   "execution_count": 6,
   "metadata": {
    "scrolled": true
   },
   "outputs": [
    {
     "name": "stdout",
     "output_type": "stream",
     "text": [
      "   Magnitude, M  Number of Earthquake, N with Magnitude > M \n",
      "0          0.00                                        464.0\n",
      "1          0.25                                        140.0\n",
      "2          0.50                                         45.0\n",
      "3          0.75                                         17.0\n",
      "4          1.00                                          4.0\n",
      "5          1.25                                          1.0\n",
      "6          1.50                                          0.0\n",
      "N = [[464]\n",
      " [140]\n",
      " [ 45]\n",
      " [ 17]\n",
      " [  4]\n",
      " [  1]]\n",
      "M = [[0.  ]\n",
      " [0.25]\n",
      " [0.5 ]\n",
      " [0.75]\n",
      " [1.  ]\n",
      " [1.25]]\n",
      "log10_N = [[2.66651798]\n",
      " [2.14612804]\n",
      " [1.65321251]\n",
      " [1.23044892]\n",
      " [0.60205999]\n",
      " [0.        ]]\n",
      "Z = [[1.   0.  ]\n",
      " [1.   0.25]\n",
      " [1.   0.5 ]\n",
      " [1.   0.75]\n",
      " [1.   1.  ]\n",
      " [1.   1.25]]\n"
     ]
    },
    {
     "data": {
      "image/png": "[encoded data removed]",
      "text/plain": [
       "<Figure size 432x288 with 1 Axes>"
      ]
     },
     "metadata": {
      "needs_background": "light"
     },
     "output_type": "display_data"
    }
   ],
   "source": [
    "# iniatiate N iteration at each selected earthquake magnitude, M\n",
    "N_M_0 = 0\n",
    "N_M_1quarter = 0\n",
    "N_M_1half = 0\n",
    "N_M_3quarter = 0\n",
    "N_M_1 = 0\n",
    "N_M_1_1quarter = 0\n",
    "N_M_1_1half = 0\n",
    "\n",
    "# begin loop to pick time approximately between 34 and 46 hours    \n",
    "for line in range(0,5297):\n",
    "\n",
    "    # calculate N at each selected earth magnitude, M\n",
    "    if Y[line] >= 0:\n",
    "        N_M_0 += 1  \n",
    "    \n",
    "    if Y[line] >= 0.25:\n",
    "        N_M_1quarter += 1  \n",
    "        \n",
    "    if Y[line] >= 0.5:\n",
    "        N_M_1half += 1\n",
    "        \n",
    "    if Y[line] >= 0.75:\n",
    "        N_M_3quarter += 1\n",
    "        \n",
    "    if Y[line] >= 1:\n",
    "        N_M_1 += 1  \n",
    "        \n",
    "    if Y[line] >= 1.25:\n",
    "        N_M_1_1quarter += 1\n",
    "        \n",
    "    if Y[line] >= 1.5:\n",
    "        N_M_1_1half += 1 \n",
    "\n",
    "# create table of M and N\n",
    "table = pd.DataFrame(np.array([[0, N_M_0],[0.25, N_M_1quarter],[0.5, N_M_1half],[0.75, N_M_3quarter],[1, N_M_1],[1.25, N_M_1_1quarter],[1.5, N_M_1_1half]]),columns=['Magnitude, M', 'Number of Earthquake, N with Magnitude > M '])\n",
    "\n",
    "# form a column vector for N\n",
    "N = np.array([[N_M_0],[N_M_1quarter],[N_M_1half],[N_M_3quarter],[N_M_1],[N_M_1_1quarter]])\n",
    "\n",
    "# form a column vector for y values following the equation linearization (log10 N)\n",
    "log10_N = np.log10(N)\n",
    "\n",
    "# form a column vector for M\n",
    "M = np.array([[0],[0.25],[0.5],[0.75],[1.0],[1.25]])\n",
    "\n",
    "# form a [Z] matrix\n",
    "Z = np.insert(M, 0, 1, axis=1)\n",
    "\n",
    "print(table)\n",
    "print('N =', N)\n",
    "print('M =', M)\n",
    "print('log10_N =', log10_N)\n",
    "print('Z =', Z)\n",
    "\n",
    "# plot M vs. N\n",
    "plt.plot(N, M, '.')\n",
    "plt.title('The data between 0 and 34 hours', fontweight = 'bold')\n",
    "plt.xlabel('N')\n",
    "plt.ylabel('M');"
   ]
  },
  {
   "cell_type": "code",
   "execution_count": 7,
   "metadata": {},
   "outputs": [
    {
     "name": "stdout",
     "output_type": "stream",
     "text": [
      "a = [[ 2.69645821]\n",
      " [-2.10143516]]\n",
      "r = [[-0.02994023]\n",
      " [-0.02497139]\n",
      " [ 0.00747188]\n",
      " [ 0.11006708]\n",
      " [ 0.00703693]\n",
      " [-0.06966427]]\n",
      "r^2 = 0.9961652625742853\n",
      "a = 2.696458213896901\n",
      "b = 2.10143515751112\n"
     ]
    }
   ],
   "source": [
    "regression = multi_regress(log10_N, Z) # use regression function to find best fit model for the data\n",
    "\n",
    "print('a =', regression[0]) # show the column vector containing the model coefficients\n",
    "print('r =', regression[1]) # show the column vector of residuals between the model and the data at each data point\n",
    "print('r^2 =', regression[2]) # show the coefficient of determination\n",
    "\n",
    "print('a =', regression[0][0][0]) # show value of constant a\n",
    "print('b =', -regression[0][1][0]) # show value of constant b"
   ]
  },
  {
   "cell_type": "code",
   "execution_count": 8,
   "metadata": {},
   "outputs": [
    {
     "data": {
      "image/png": "[encoded data removed]",
      "text/plain": [
       "<Figure size 432x288 with 1 Axes>"
      ]
     },
     "metadata": {
      "needs_background": "light"
     },
     "output_type": "display_data"
    }
   ],
   "source": [
    "# plot best-fit curve along the data\n",
    "plt.figure()\n",
    "plt.plot(N, M, '.', label = 'data')\n",
    "plt.plot(10 ** (regression[0][0] + regression[0][1] * M), M, label = 'model')\n",
    "plt.legend(bbox_to_anchor=(1, 1))\n",
    "plt.title('The Best-Fit Regression Line Across the Data', fontweight = 'bold')\n",
    "plt.xlabel('N')\n",
    "plt.ylabel('M')\n",
    "plt.text(150, 0.7, \"a = \" + str(\"{:.2f}\".format(regression[0][0][0])) + \", b =\" + str(\"{:.2f}\".format(-regression[0][1][0])))\n",
    "plt.text(150, 0.5, \"r^2 = \" + str(\"{:.3f}\".format(regression[2])));"
   ]
  },
  {
   "cell_type": "markdown",
   "metadata": {},
   "source": [
    "## Analyzing data between 34 and 46 hours"
   ]
  },
  {
   "cell_type": "code",
   "execution_count": 9,
   "metadata": {},
   "outputs": [
    {
     "name": "stdout",
     "output_type": "stream",
     "text": [
      "   Magnitude, M  Number of Earthquake, N with Magnitude > M \n",
      "0          0.00                                        114.0\n",
      "1          0.25                                         59.0\n",
      "2          0.50                                         25.0\n",
      "3          0.75                                         13.0\n",
      "4          1.00                                         10.0\n",
      "5          1.25                                          6.0\n",
      "6          1.50                                          1.0\n",
      "N = [[114]\n",
      " [ 59]\n",
      " [ 25]\n",
      " [ 13]\n",
      " [ 10]\n",
      " [  6]\n",
      " [  1]]\n",
      "M = [[0.  ]\n",
      " [0.25]\n",
      " [0.5 ]\n",
      " [0.75]\n",
      " [1.  ]\n",
      " [1.25]\n",
      " [1.5 ]]\n",
      "log10_N = [[2.05690485]\n",
      " [1.77085201]\n",
      " [1.39794001]\n",
      " [1.11394335]\n",
      " [1.        ]\n",
      " [0.77815125]\n",
      " [0.        ]]\n",
      "Z = [[1.   0.  ]\n",
      " [1.   0.25]\n",
      " [1.   0.5 ]\n",
      " [1.   0.75]\n",
      " [1.   1.  ]\n",
      " [1.   1.25]\n",
      " [1.   1.5 ]]\n"
     ]
    },
    {
     "data": {
      "image/png": "[encoded data removed]",
      "text/plain": [
       "<Figure size 432x288 with 1 Axes>"
      ]
     },
     "metadata": {
      "needs_background": "light"
     },
     "output_type": "display_data"
    }
   ],
   "source": [
    "# iniatiate N iteration at each selected earthquake magnitude, M\n",
    "N_M_0 = 0\n",
    "N_M_1quarter = 0\n",
    "N_M_1half = 0\n",
    "N_M_3quarter = 0\n",
    "N_M_1 = 0\n",
    "N_M_1_1quarter = 0\n",
    "N_M_1_1half = 0\n",
    "\n",
    "# begin loop to pick time approximately between 34 and 46 hours    \n",
    "for line in range(5298,5531):\n",
    "\n",
    "    # calculate N at each selected earth magnitude, M\n",
    "    if Y[line] >= 0:\n",
    "        N_M_0 += 1  \n",
    "    \n",
    "    if Y[line] >= 0.25:\n",
    "        N_M_1quarter += 1  \n",
    "        \n",
    "    if Y[line] >= 0.5:\n",
    "        N_M_1half += 1\n",
    "        \n",
    "    if Y[line] >= 0.75:\n",
    "        N_M_3quarter += 1\n",
    "        \n",
    "    if Y[line] >= 1:\n",
    "        N_M_1 += 1  \n",
    "        \n",
    "    if Y[line] >= 1.25:\n",
    "        N_M_1_1quarter += 1\n",
    "        \n",
    "    if Y[line] >= 1.5:\n",
    "        N_M_1_1half += 1 \n",
    "\n",
    "# create table of M and N\n",
    "table = pd.DataFrame(np.array([[0, N_M_0],[0.25, N_M_1quarter],[0.5, N_M_1half],[0.75, N_M_3quarter],[1, N_M_1],[1.25, N_M_1_1quarter],[1.5, N_M_1_1half]]),columns=['Magnitude, M', 'Number of Earthquake, N with Magnitude > M '])\n",
    "\n",
    "# form a column vector for N\n",
    "N = np.array([[N_M_0],[N_M_1quarter],[N_M_1half],[N_M_3quarter],[N_M_1],[N_M_1_1quarter],[N_M_1_1half]])\n",
    "\n",
    "# form a column vector for y values following the equation linearization (log10 N)\n",
    "log10_N = np.log10(N)\n",
    "\n",
    "# form a column vector for M\n",
    "M = np.array([[0],[0.25],[0.5],[0.75],[1.0],[1.25],[1.5]])\n",
    "\n",
    "# form a [Z] matrix\n",
    "Z = np.insert(M, 0, 1, axis=1)\n",
    "\n",
    "print(table)\n",
    "print('N =', N)\n",
    "print('M =', M)\n",
    "print('log10_N =', log10_N)\n",
    "print('Z =', Z)\n",
    "\n",
    "# plot M vs. N\n",
    "plt.plot(N, M, '.')\n",
    "plt.title('The data between 34 and 46 hours', fontweight = 'bold')\n",
    "plt.xlabel('N')\n",
    "plt.ylabel('M');"
   ]
  },
  {
   "cell_type": "code",
   "execution_count": 10,
   "metadata": {
    "scrolled": true
   },
   "outputs": [
    {
     "name": "stdout",
     "output_type": "stream",
     "text": [
      "a = [[ 2.07619051]\n",
      " [-1.22200801]]\n",
      "r = [[-1.92856541e-02]\n",
      " [ 1.63509222e-04]\n",
      " [-6.72464907e-02]\n",
      " [-4.57411440e-02]\n",
      " [ 1.45817507e-01]\n",
      " [ 2.29470760e-01]\n",
      " [-2.43178487e-01]]\n",
      "r^2 = 0.9491372202268196\n",
      "a = 2.076190505462854\n",
      "b = 1.2220080121712082\n"
     ]
    }
   ],
   "source": [
    "regression = multi_regress(log10_N, Z) # use regression function to find best fit model for the data\n",
    "\n",
    "print('a =', regression[0]) # show the column vector containing the model coefficients\n",
    "print('r =', regression[1]) # show the column vector of residuals between the model and the data at each data point\n",
    "print('r^2 =', regression[2]) # show the coefficient of determination\n",
    "\n",
    "print('a =', regression[0][0][0]) # show value of constant a\n",
    "print('b =', -regression[0][1][0]) # show value of constant b"
   ]
  },
  {
   "cell_type": "code",
   "execution_count": 11,
   "metadata": {},
   "outputs": [
    {
     "data": {
      "image/png": "[encoded data removed]",
      "text/plain": [
       "<Figure size 432x288 with 1 Axes>"
      ]
     },
     "metadata": {
      "needs_background": "light"
     },
     "output_type": "display_data"
    }
   ],
   "source": [
    "# plot best-fit curve along the data\n",
    "plt.figure()\n",
    "plt.plot(N, M, '.', label = 'data')\n",
    "plt.plot(10 ** (regression[0][0] + regression[0][1] * M), M, label = 'model')\n",
    "plt.legend(bbox_to_anchor=(1, 1))\n",
    "plt.title('The Best-Fit Regression Line Across the Data', fontweight = 'bold')\n",
    "plt.xlabel('N')\n",
    "plt.ylabel('M')\n",
    "plt.text(40, 0.9, \"a = \" + str(\"{:.2f}\".format(regression[0][0][0])) + \", b =\" + str(\"{:.2f}\".format(-regression[0][1][0])))\n",
    "plt.text(40, 0.7, \"r^2 = \" + str(\"{:.3f}\".format(regression[2])));"
   ]
  },
  {
   "cell_type": "markdown",
   "metadata": {},
   "source": [
    "## Analyzing data between 46 and 72 hours"
   ]
  },
  {
   "cell_type": "code",
   "execution_count": 12,
   "metadata": {},
   "outputs": [
    {
     "name": "stdout",
     "output_type": "stream",
     "text": [
      "   Magnitude, M  Number of Earthquake, N with Magnitude > M \n",
      "0          0.00                                        282.0\n",
      "1          0.25                                         71.0\n",
      "2          0.50                                         27.0\n",
      "3          0.75                                         12.0\n",
      "4          1.00                                          3.0\n",
      "5          1.25                                          2.0\n",
      "6          1.50                                          0.0\n",
      "N = [[282]\n",
      " [ 71]\n",
      " [ 27]\n",
      " [ 12]\n",
      " [  3]\n",
      " [  2]]\n",
      "M = [[0.  ]\n",
      " [0.25]\n",
      " [0.5 ]\n",
      " [0.75]\n",
      " [1.  ]\n",
      " [1.25]]\n",
      "log10_N = [[2.45024911]\n",
      " [1.85125835]\n",
      " [1.43136376]\n",
      " [1.07918125]\n",
      " [0.47712125]\n",
      " [0.30103   ]]\n",
      "Z = [[1.   0.  ]\n",
      " [1.   0.25]\n",
      " [1.   0.5 ]\n",
      " [1.   0.75]\n",
      " [1.   1.  ]\n",
      " [1.   1.25]]\n"
     ]
    },
    {
     "data": {
      "image/png": "[encoded data removed]",
      "text/plain": [
       "<Figure size 432x288 with 1 Axes>"
      ]
     },
     "metadata": {
      "needs_background": "light"
     },
     "output_type": "display_data"
    }
   ],
   "source": [
    "# iniatiate N iteration at each selected earthquake magnitude, M\n",
    "N_M_0 = 0\n",
    "N_M_1quarter = 0\n",
    "N_M_1half = 0\n",
    "N_M_3quarter = 0\n",
    "N_M_1 = 0\n",
    "N_M_1_1quarter = 0\n",
    "N_M_1_1half = 0\n",
    "\n",
    "# begin loop to pick time approximately between 34 and 46 hours    \n",
    "for line in range(5532,6973):\n",
    "\n",
    "    # calculate N at each selected earth magnitude, M\n",
    "    if Y[line] >= 0:\n",
    "        N_M_0 += 1  \n",
    "    \n",
    "    if Y[line] >= 0.25:\n",
    "        N_M_1quarter += 1  \n",
    "        \n",
    "    if Y[line] >= 0.5:\n",
    "        N_M_1half += 1\n",
    "        \n",
    "    if Y[line] >= 0.75:\n",
    "        N_M_3quarter += 1\n",
    "        \n",
    "    if Y[line] >= 1:\n",
    "        N_M_1 += 1  \n",
    "        \n",
    "    if Y[line] >= 1.25:\n",
    "        N_M_1_1quarter += 1\n",
    "        \n",
    "    if Y[line] >= 1.5:\n",
    "        N_M_1_1half += 1 \n",
    "\n",
    "# create table of M and N\n",
    "table = pd.DataFrame(np.array([[0, N_M_0],[0.25, N_M_1quarter],[0.5, N_M_1half],[0.75, N_M_3quarter],[1, N_M_1],[1.25, N_M_1_1quarter],[1.5, N_M_1_1half]]),columns=['Magnitude, M', 'Number of Earthquake, N with Magnitude > M '])\n",
    "\n",
    "# form a column vector for N\n",
    "N = np.array([[N_M_0],[N_M_1quarter],[N_M_1half],[N_M_3quarter],[N_M_1],[N_M_1_1quarter]])\n",
    "\n",
    "# form a column vector for y values following the equation linearization (log10 N)\n",
    "log10_N = np.log10(N)\n",
    "\n",
    "# form a column vector for M\n",
    "M = np.array([[0],[0.25],[0.5],[0.75],[1.0],[1.25]])\n",
    "\n",
    "# form a [Z] matrix\n",
    "Z = np.insert(M, 0, 1, axis=1)\n",
    "\n",
    "print(table)\n",
    "print('N =', N)\n",
    "print('M =', M)\n",
    "print('log10_N =', log10_N)\n",
    "print('Z =', Z)\n",
    "\n",
    "# plot M vs. N\n",
    "plt.plot(N, M, '.')\n",
    "plt.title('The data between 46 and 72 hours', fontweight = 'bold')\n",
    "plt.xlabel('N')\n",
    "plt.ylabel('M');"
   ]
  },
  {
   "cell_type": "code",
   "execution_count": 13,
   "metadata": {},
   "outputs": [
    {
     "name": "stdout",
     "output_type": "stream",
     "text": [
      "a = [[ 2.35222605]\n",
      " [-1.73950736]]\n",
      "r = [[ 0.09802306]\n",
      " [-0.06609086]\n",
      " [-0.05110861]\n",
      " [ 0.03158571]\n",
      " [-0.13559744]\n",
      " [ 0.12318814]]\n",
      "r^2 = 0.9847805258174542\n",
      "a = 2.3522260503228662\n",
      "b = 1.7395073558156007\n"
     ]
    }
   ],
   "source": [
    "regression = multi_regress(log10_N, Z) # use regression function to find best fit model for the data\n",
    "\n",
    "print('a =', regression[0]) # show the column vector containing the model coefficients\n",
    "print('r =', regression[1]) # show the column vector of residuals between the model and the data at each data point\n",
    "print('r^2 =', regression[2]) # show the coefficient of determination\n",
    "\n",
    "print('a =', regression[0][0][0]) # show value of constant a\n",
    "print('b =', -regression[0][1][0]) # show value of constant b"
   ]
  },
  {
   "cell_type": "code",
   "execution_count": 14,
   "metadata": {},
   "outputs": [
    {
     "data": {
      "image/png": "[encoded data removed]",
      "text/plain": [
       "<Figure size 432x288 with 1 Axes>"
      ]
     },
     "metadata": {
      "needs_background": "light"
     },
     "output_type": "display_data"
    }
   ],
   "source": [
    "# plot best-fit curve along the data\n",
    "plt.figure()\n",
    "plt.plot(N, M, '.', label = 'data')\n",
    "plt.plot(10 ** (regression[0][0] + regression[0][1] * M), M, label = 'model')\n",
    "plt.legend(bbox_to_anchor=(1, 1))\n",
    "plt.title('The Best-Fit Regression Line Across the Data', fontweight = 'bold')\n",
    "plt.xlabel('N')\n",
    "plt.ylabel('M')\n",
    "plt.text(85, 0.7, \"a = \" + str(\"{:.2f}\".format(regression[0][0][0])) + \", b =\" + str(\"{:.2f}\".format(-regression[0][1][0])))\n",
    "plt.text(85, 0.5, \"r^2 = \" + str(\"{:.3f}\".format(regression[2])));"
   ]
  },
  {
   "cell_type": "markdown",
   "metadata": {},
   "source": [
    "## Analyzing data between 72 and 120 hours"
   ]
  },
  {
   "cell_type": "code",
   "execution_count": 15,
   "metadata": {},
   "outputs": [
    {
     "name": "stdout",
     "output_type": "stream",
     "text": [
      "   Magnitude, M  Number of Earthquake, N with Magnitude > M \n",
      "0          0.00                                        641.0\n",
      "1          0.25                                        180.0\n",
      "2          0.50                                         56.0\n",
      "3          0.75                                         21.0\n",
      "4          1.00                                          8.0\n",
      "5          1.25                                          1.0\n",
      "6          1.50                                          1.0\n",
      "N = [[641]\n",
      " [180]\n",
      " [ 56]\n",
      " [ 21]\n",
      " [  8]\n",
      " [  1]\n",
      " [  1]]\n",
      "M = [[0.  ]\n",
      " [0.25]\n",
      " [0.5 ]\n",
      " [0.75]\n",
      " [1.  ]\n",
      " [1.25]\n",
      " [1.5 ]]\n",
      "log10_N = [[2.80685803]\n",
      " [2.25527251]\n",
      " [1.74818803]\n",
      " [1.32221929]\n",
      " [0.90308999]\n",
      " [0.        ]\n",
      " [0.        ]]\n",
      "Z = [[1.   0.  ]\n",
      " [1.   0.25]\n",
      " [1.   0.5 ]\n",
      " [1.   0.75]\n",
      " [1.   1.  ]\n",
      " [1.   1.25]\n",
      " [1.   1.5 ]]\n"
     ]
    },
    {
     "data": {
      "image/png": "[encoded data removed]",
      "text/plain": [
       "<Figure size 432x288 with 1 Axes>"
      ]
     },
     "metadata": {
      "needs_background": "light"
     },
     "output_type": "display_data"
    }
   ],
   "source": [
    "# iniatiate N iteration at each selected earthquake magnitude, M\n",
    "N_M_0 = 0\n",
    "N_M_1quarter = 0\n",
    "N_M_1half = 0\n",
    "N_M_3quarter = 0\n",
    "N_M_1 = 0\n",
    "N_M_1_1quarter = 0\n",
    "N_M_1_1half = 0\n",
    "\n",
    "# begin loop to pick time approximately between 34 and 46 hours    \n",
    "for line in range(6974,13390):\n",
    "\n",
    "    # calculate N at each selected earth magnitude, M\n",
    "    if Y[line] >= 0:\n",
    "        N_M_0 += 1  \n",
    "    \n",
    "    if Y[line] >= 0.25:\n",
    "        N_M_1quarter += 1  \n",
    "        \n",
    "    if Y[line] >= 0.5:\n",
    "        N_M_1half += 1\n",
    "        \n",
    "    if Y[line] >= 0.75:\n",
    "        N_M_3quarter += 1\n",
    "        \n",
    "    if Y[line] >= 1:\n",
    "        N_M_1 += 1  \n",
    "        \n",
    "    if Y[line] >= 1.25:\n",
    "        N_M_1_1quarter += 1\n",
    "        \n",
    "    if Y[line] >= 1.5:\n",
    "        N_M_1_1half += 1 \n",
    "\n",
    "# create table of M and N\n",
    "table = pd.DataFrame(np.array([[0, N_M_0],[0.25, N_M_1quarter],[0.5, N_M_1half],[0.75, N_M_3quarter],[1, N_M_1],[1.25, N_M_1_1quarter],[1.5, N_M_1_1half]]),columns=['Magnitude, M', 'Number of Earthquake, N with Magnitude > M '])\n",
    "\n",
    "# form a column vector for N\n",
    "N = np.array([[N_M_0],[N_M_1quarter],[N_M_1half],[N_M_3quarter],[N_M_1],[N_M_1_1quarter],[N_M_1_1half]])\n",
    "\n",
    "# form a column vector for y values following the equation linearization (log10 N)\n",
    "log10_N = np.log10(N)\n",
    "\n",
    "# form a column vector for M\n",
    "M = np.array([[0],[0.25],[0.5],[0.75],[1.0],[1.25],[1.5]])\n",
    "\n",
    "# form a [Z] matrix\n",
    "Z = np.insert(M, 0, 1, axis=1)\n",
    "\n",
    "print(table)\n",
    "print('N =', N)\n",
    "print('M =', M)\n",
    "print('log10_N =', log10_N)\n",
    "print('Z =', Z)\n",
    "\n",
    "# plot M vs. N\n",
    "plt.plot(N, M, '.')\n",
    "plt.title('The data between 72 and 120 hours', fontweight = 'bold')\n",
    "plt.xlabel('N')\n",
    "plt.ylabel('M');"
   ]
  },
  {
   "cell_type": "code",
   "execution_count": 16,
   "metadata": {},
   "outputs": [
    {
     "name": "stdout",
     "output_type": "stream",
     "text": [
      "a = [[ 2.76682724]\n",
      " [-1.96803102]]\n",
      "r = [[ 0.04003079]\n",
      " [-0.01954698]\n",
      " [-0.03462371]\n",
      " [ 0.03141532]\n",
      " [ 0.10429376]\n",
      " [-0.30678847]\n",
      " [ 0.18521929]]\n",
      "r^2 = 0.979271363821394\n",
      "a = 2.7668272424910256\n",
      "b = 1.9680310198253315\n"
     ]
    }
   ],
   "source": [
    "regression = multi_regress(log10_N, Z) # use regression function to find best fit model for the data\n",
    "\n",
    "print('a =', regression[0]) # show the column vector containing the model coefficients\n",
    "print('r =', regression[1]) # show the column vector of residuals between the model and the data at each data point\n",
    "print('r^2 =', regression[2]) # show the coefficient of determination\n",
    "\n",
    "print('a =', regression[0][0][0]) # show value of constant a\n",
    "print('b =', -regression[0][1][0]) # show value of constant b"
   ]
  },
  {
   "cell_type": "code",
   "execution_count": 17,
   "metadata": {},
   "outputs": [
    {
     "data": {
      "image/png": "[encoded data removed]",
      "text/plain": [
       "<Figure size 432x288 with 1 Axes>"
      ]
     },
     "metadata": {
      "needs_background": "light"
     },
     "output_type": "display_data"
    }
   ],
   "source": [
    "# plot best-fit curve along the data\n",
    "plt.figure()\n",
    "plt.plot(N, M, '.', label = 'data')\n",
    "plt.plot(10 ** (regression[0][0] + regression[0][1] * M), M, label = 'model')\n",
    "plt.legend(bbox_to_anchor=(1, 1))\n",
    "plt.title('The Best-Fit Regression Line Across the Data', fontweight = 'bold')\n",
    "plt.xlabel('N')\n",
    "plt.ylabel('M')\n",
    "plt.text(150, 0.9, \"a = \" + str(\"{:.2f}\".format(regression[0][0][0])) + \", b =\" + str(\"{:.2f}\".format(-regression[0][1][0])))\n",
    "plt.text(150, 0.7, \"r^2 = \" + str(\"{:.3f}\".format(regression[2])));"
   ]
  },
  {
   "cell_type": "markdown",
   "metadata": {},
   "source": [
    "The intervals to plot M vs N where chosen based-upon observable trends in the data. For example there appears to be ~4 total different phases of earthquake occurences in the data. The first and last phases look remarkably similar in density of occurences while the second phase interval has relatively very few Earthquakes occuring. The 2nd and 3rd intervals look to gradually build up in occurences of Earthquakes before reaching the 4th interval which again has a high relative amount of earthquake occurences. \n",
    "\n",
    "The coefficient of determination for all intervals are greater than 0.6 indicating that the models were a good fit to the data in each interval.\n",
    "\n",
    "Significant trends can be seen in how the b parameter changed over time. If it is assumed that this data was recorded at this site in a region experiencing induced seismicity due to industrial activities (e.g.hydraulic fracturing or wastewater injection). Then in agreement with **(Leptokaropoulos 2019)**, it appears that there could be a statistically signifcant direct relation between b values and injection rate changes. The b values appear to be related to the slope of injection rate **where large injection rate increases correspond to high b values and low injection rate slope values correspond to lower b values**. Something else to consider is a detection bias between the extremly low valued earthquakes and their frequency of occurence. If extremely low-valued earthquakes are difficult to detect due to the capabilities of instruments measuring them, then this could lead to a lower number of these events recorded in the data. "
   ]
  },
  {
   "cell_type": "markdown",
   "metadata": {},
   "source": [
    "## Conclusion"
   ]
  },
  {
   "cell_type": "markdown",
   "metadata": {},
   "source": [
    "As illustrated in this lab, the **Linear Least Squares Regression** method can be an effective way of solving a linear system of equations. In our study an application of it was applied to analyze the Gutenberg-Richter law in monitoring Earthquake frequency at an industrial operation injecting fluid into a shale formation. By manipulating the law into a linearized model (by taking the logarithm of both sides in equation 1), the system was solved at different intervals, and then de-linearized (returned back to the  normal form of equation 1). Best fit curves were also then plotted. From analyzing the data it appears that large injection rate increases correspond to high b values and lower injection slope values correspond to lower b values and this could explain noticable trends in the dataset. The intervals that were analyzed were chosen based-upon distinguishable trends in the number of earthquake occurances in the data. Approximately 4 different intervals could be distinguished."
   ]
  },
  {
   "cell_type": "markdown",
   "metadata": {},
   "source": [
    "## References"
   ]
  },
  {
   "cell_type": "markdown",
   "metadata": {},
   "source": [
    "1) Sharp, M. (2021) University of Calgary Teaching Assistant. Computational Methods for Geophysicists Winter. 2021\n"
   ]
  },
  {
   "cell_type": "markdown",
   "metadata": {},
   "source": [
    "2) Karchewski, B (2021) Topic 04 - Curve Fitting I - Least Squares Regression - Lecture, University of Calgary https://d2l.ucalgary.ca/d2l/le/content/356381/viewContent/4431315/View\n"
   ]
  },
  {
   "cell_type": "markdown",
   "metadata": {},
   "source": [
    "3) Leptokaropoulos, Staszek (2019) Temporal response of magnitude distribution to fuid injection rates in The Geysers geothermal field. Acta Geophysica. 67:327–339 https://doi.org/10.1007/s11600-018-0215-1"
   ]
  },
  {
   "cell_type": "markdown",
   "metadata": {},
   "source": [
    "4) Pictures used in this lab can be found at their url's embedded in the code!"
   ]
  }
 ],
 "metadata": {
  "kernelspec": {
   "display_name": "Python 3",
   "language": "python",
   "name": "python3"
  },
  "language_info": {
   "codemirror_mode": {
    "name": "ipython",
    "version": 3
   },
   "file_extension": ".py",
   "mimetype": "text/x-python",
   "name": "python",
   "nbconvert_exporter": "python",
   "pygments_lexer": "ipython3",
   "version": "3.8.5"
  }
 },
 "nbformat": 4,
 "nbformat_minor": 4
}
